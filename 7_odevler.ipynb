{
 "cells": [
  {
   "cell_type": "markdown",
   "metadata": {},
   "source": [
    "1-Soru: 0dan 100e kadar karışık sırada sayıları tutan bir listenizin olduğunu düşünün. Bu liste içerisinde n tane sayı eksik. n ve eksik sayıları bulunuz.\n",
    "\n",
    "Örnek: my_list = [0, 7, 5, 8, 2] -> 0-10 arasında\n",
    "\n",
    "6 adet sayı eksiktir. Eksik olan sayılar [1, 3, 4, 6, 9, 10]"
   ]
  },
  {
   "cell_type": "code",
   "execution_count": null,
   "metadata": {},
   "outputs": [
    {
     "ename": "",
     "evalue": "",
     "output_type": "error",
     "traceback": [
      "\u001b[1;31mÇekirdek başlatılamadı. \n",
      "\u001b[1;31mAttributeError: partially initialized module 'random' has no attribute 'randint' (most likely due to a circular import). \n",
      "\u001b[1;31mDaha fazla ayrıntı için Jupyter <a href='command:jupyter.viewOutput'>günlüğüne</a> bakın."
     ]
    }
   ],
   "source": [
    "#Kod çalışıyor ama vsCode'da sorun olduğundan burada çalıştıramadım.\n",
    "#Python'ın kendi idesinde çalışıyor sorunsuzca\n",
    "\n",
    "import random\n",
    "a = random.randint(0,100)\n",
    "print(\"Karışık listemizin eleman sayısı: \", a)\n",
    "b = print((100 - a), \"tane sayı my_list'in içinde yok.\")\n",
    "\n",
    "liste = []#0'dan 100'e kadar hangi sayılar eksik kontrol etmek için liste oluşturduk\n",
    "my_list = [] #karışık sayıların bulunduğu liste\n",
    "listNone = [] #my_listte olmayan sayıları buraya ekliyoruz.\n",
    "\n",
    "for x in range(1,101):\n",
    "    liste.append(x)\n",
    "    \n",
    "for i in range(a): \n",
    "    my_list.append(random.randint(0,100))\n",
    "random.shuffle(my_list)\n",
    "\n",
    "listNone.append(set(liste)^set(my_list))\n",
    "\n",
    "print(\"Karışık Sayı Listemiz: \\n\", my_list)\n",
    "print(\"my_list'te Olmayan Eksik Sayılar: \\n\", listNone)"
   ]
  }
 ],
 "metadata": {
  "kernelspec": {
   "display_name": "Python 3.10.6 64-bit",
   "language": "python",
   "name": "python3"
  },
  "language_info": {
   "name": "python",
   "version": "3.10.6"
  },
  "orig_nbformat": 4,
  "vscode": {
   "interpreter": {
    "hash": "9624578c985f44420bdf532c620c13a9f13c360a52c0692b61f3ec1fa411c6c5"
   }
  }
 },
 "nbformat": 4,
 "nbformat_minor": 2
}
