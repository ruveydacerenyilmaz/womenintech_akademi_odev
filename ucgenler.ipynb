{
  "cells": [
    {
      "cell_type": "code",
      "execution_count": null,
      "metadata": {
        "colab": {
          "base_uri": "https://localhost:8080/"
        },
        "id": "0HO_1YrGgPgu",
        "outputId": "145ffe15-9805-4577-8e0b-2d4e00cdc546"
      },
      "outputs": [
        {
          "name": "stdout",
          "output_type": "stream",
          "text": [
            "\n",
            "*\n",
            "**\n",
            "***\n",
            "****\n",
            "*****\n"
          ]
        }
      ],
      "source": [
        "num = 5\n",
        "for i in range(1,num+1):\n",
        "  print(\"*\"*i)"
      ]
    },
    {
      "cell_type": "code",
      "execution_count": null,
      "metadata": {
        "colab": {
          "base_uri": "https://localhost:8080/"
        },
        "id": "if0bbWaigdRZ",
        "outputId": "296b4e6e-b0b1-459a-ad86-e2e020f70278"
      },
      "outputs": [
        {
          "name": "stdout",
          "output_type": "stream",
          "text": [
            "*****\n",
            "****\n",
            "***\n",
            "**\n",
            "*\n"
          ]
        }
      ],
      "source": [
        "for i in range(5,0,-1):\n",
        "  print(\"*\"*i)"
      ]
    },
    {
      "cell_type": "code",
      "execution_count": null,
      "metadata": {
        "colab": {
          "base_uri": "https://localhost:8080/"
        },
        "id": "wlSkBzWzgxjs",
        "outputId": "20362bcc-d451-4c0e-fce4-23ce701e9011"
      },
      "outputs": [
        {
          "name": "stdout",
          "output_type": "stream",
          "text": [
            "     *\n",
            "    **\n",
            "   ***\n",
            "  ****\n",
            " *****\n"
          ]
        }
      ],
      "source": [
        "for i in range(1,6):\n",
        "  print(\" \"*(5-i), \"*\"*i)"
      ]
    },
    {
      "cell_type": "code",
      "execution_count": null,
      "metadata": {
        "colab": {
          "base_uri": "https://localhost:8080/"
        },
        "id": "XJcqAGCYK_Ch",
        "outputId": "79f5736e-e97f-4e65-fe65-6289e9ae7ca9"
      },
      "outputs": [
        {
          "name": "stdout",
          "output_type": "stream",
          "text": [
            "     *\n",
            "    **\n",
            "   ***\n",
            "  ****\n",
            " *****\n"
          ]
        }
      ],
      "source": [
        "num=5\n",
        "for i in range(1,num+1):\n",
        "  print(\" \"* (num-i),\"*\"*i)"
      ]
    },
    {
      "cell_type": "code",
      "execution_count": null,
      "metadata": {
        "colab": {
          "base_uri": "https://localhost:8080/"
        },
        "id": "FTKVQED3O_0h",
        "outputId": "2a818fd9-a540-46fa-fc26-cf6cf92561a4"
      },
      "outputs": [
        {
          "name": "stdout",
          "output_type": "stream",
          "text": [
            "     * \n",
            "    ** \n",
            "   *** \n",
            "  **** \n",
            " ***** \n"
          ]
        }
      ],
      "source": [
        "for i in range(5):\n",
        "  for j in range(i,5): \n",
        "    print(\"\", end=\" \")\n",
        "  for j in range(i+1): \n",
        "    print(\"*\", end=\"\")\n",
        "  print(\" \")\n"
      ]
    },
    {
      "cell_type": "code",
      "execution_count": null,
      "metadata": {
        "colab": {
          "base_uri": "https://localhost:8080/"
        },
        "id": "nTZqaUrxPaOQ",
        "outputId": "8f02a7ae-94da-4a46-e84e-7e480ed99350"
      },
      "outputs": [
        {
          "name": "stdout",
          "output_type": "stream",
          "text": [
            " ***** \n",
            "  **** \n",
            "   *** \n",
            "    ** \n",
            "     * \n"
          ]
        }
      ],
      "source": [
        "for i in range(5):\n",
        "  for j in range(i+1): \n",
        "    print(\" \", end=\"\")\n",
        "  for j in range(i,5): \n",
        "    print(\"*\", end=\"\")\n",
        "  print(\" \")"
      ]
    },
    {
      "cell_type": "code",
      "execution_count": null,
      "metadata": {
        "colab": {
          "base_uri": "https://localhost:8080/"
        },
        "id": "xZJQyP2ahLL9",
        "outputId": "ea675415-1b34-4bdf-9ee2-8b4aed68e925"
      },
      "outputs": [
        {
          "name": "stdout",
          "output_type": "stream",
          "text": [
            " *****\n",
            "  ****\n",
            "   ***\n",
            "    **\n",
            "     *\n"
          ]
        }
      ],
      "source": [
        "num=5\n",
        "for i in range(num,0,-1):\n",
        "  print(\" \"*(num-i),\"*\"*i)"
      ]
    },
    {
      "cell_type": "code",
      "execution_count": null,
      "metadata": {
        "colab": {
          "base_uri": "https://localhost:8080/"
        },
        "id": "NplEArLJjrlD",
        "outputId": "1a724b16-7d65-42be-f91e-93b8a6366df4"
      },
      "outputs": [
        {
          "name": "stdout",
          "output_type": "stream",
          "text": [
            "      **\n",
            "     ****\n",
            "    ******\n",
            "   ********\n",
            "  **********\n"
          ]
        }
      ],
      "source": [
        "for i in range(1,6):\n",
        "    print((6-i)*\" \",\"*\"*2*i)"
      ]
    },
    {
      "cell_type": "code",
      "execution_count": null,
      "metadata": {
        "colab": {
          "base_uri": "https://localhost:8080/"
        },
        "id": "SEpGfjZSj68G",
        "outputId": "7507088b-e11c-4fe6-f1d1-8b59630c917b"
      },
      "outputs": [
        {
          "name": "stdout",
          "output_type": "stream",
          "text": [
            " **********\n",
            "  ********\n",
            "   ******\n",
            "    ****\n",
            "     **\n"
          ]
        }
      ],
      "source": [
        "for i in range(5):\n",
        "    print(\" \"*i,\"*\"*(2*(5-i)))"
      ]
    },
    {
      "cell_type": "code",
      "execution_count": null,
      "metadata": {
        "colab": {
          "base_uri": "https://localhost:8080/"
        },
        "id": "pnU0IQVaSRCq",
        "outputId": "43e1a8e9-115c-407e-c74f-7d1419002a7c"
      },
      "outputs": [
        {
          "name": "stdout",
          "output_type": "stream",
          "text": [
            " **********\n",
            "  ********\n",
            "   ******\n",
            "    ****\n",
            "     **\n"
          ]
        }
      ],
      "source": [
        "for i in range(10,0,-2):\n",
        "  print(\" \"*int((10-i)/2), \"*\"*i)"
      ]
    },
    {
      "cell_type": "code",
      "execution_count": null,
      "metadata": {
        "colab": {
          "base_uri": "https://localhost:8080/"
        },
        "id": "mKHzktc2hzX5",
        "outputId": "5fd49471-8ce3-44ad-fb45-4237ba1e14ac"
      },
      "outputs": [
        {
          "name": "stdout",
          "output_type": "stream",
          "text": [
            "*        *\n",
            "**      **\n",
            "***    ***\n",
            "****  ****\n",
            "**********\n"
          ]
        }
      ],
      "source": [
        "num=5\n",
        "for i in range(1,num+1):\n",
        "       print(\"*\" *i+\" \"* ((num-i)*2) + \"*\"*i)"
      ]
    }
  ],
  "metadata": {
    "colab": {
      "collapsed_sections": [],
      "provenance": []
    },
    "kernelspec": {
      "display_name": "Python 3.10.6 64-bit",
      "language": "python",
      "name": "python3"
    },
    "language_info": {
      "name": "python",
      "version": "3.10.6"
    },
    "vscode": {
      "interpreter": {
        "hash": "9624578c985f44420bdf532c620c13a9f13c360a52c0692b61f3ec1fa411c6c5"
      }
    }
  },
  "nbformat": 4,
  "nbformat_minor": 0
}
