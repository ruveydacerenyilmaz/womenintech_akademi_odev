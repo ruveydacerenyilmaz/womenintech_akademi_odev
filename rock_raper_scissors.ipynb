{
 "cells": [
  {
   "cell_type": "markdown",
   "metadata": {},
   "source": [
    "### Taş-Kağıt-Makas Oyunu Kuralları\n",
    "\n",
    "* Kağıt taşı kapladığı için yener.\n",
    "* Taş makası ezebildiği için yener.\n",
    "* Makas kağıdı kesebildiği için yener."
   ]
  },
  {
   "cell_type": "code",
   "execution_count": 4,
   "metadata": {},
   "outputs": [
    {
     "name": "stdout",
     "output_type": "stream",
     "text": [
      "Taş Kağıt Makas Oyununa Hoş Geldiniz!\n",
      "----------------------------------------\n",
      "\n",
      "1 - Taş\n",
      "2 - Kağıt \n",
      "3 - Makas\n",
      "Oyundan çıkmak isterseniz bu değerler dışında bir değer giriniz\n",
      "Bilgisayarın Seçimi: 2\n",
      "\n",
      "Kazanan: Bilgisayar\n",
      "\n",
      "1 - Taş\n",
      "2 - Kağıt \n",
      "3 - Makas\n",
      "Oyundan çıkmak isterseniz bu değerler dışında bir değer giriniz\n",
      "Bilgisayarın Seçimi: 1\n",
      "\n",
      "Kazanan: Kullanıcı\n",
      "\n",
      "1 - Taş\n",
      "2 - Kağıt \n",
      "3 - Makas\n",
      "Oyundan çıkmak isterseniz bu değerler dışında bir değer giriniz\n",
      "Beraber, yeniden oynayınız\n",
      "\n",
      "1 - Taş\n",
      "2 - Kağıt \n",
      "3 - Makas\n",
      "Oyundan çıkmak isterseniz bu değerler dışında bir değer giriniz\n",
      "\n",
      "\n",
      "Kullanıcı skoru 100 - Bilgisayarın skoru 100\n",
      "Oyun Berabere\n"
     ]
    }
   ],
   "source": [
    "import random\n",
    "oyuncu_puani = pc_puani = 0\n",
    "computer_choice = 0\n",
    "\n",
    "def print_result(winner = \"Bilgisayar\"):\n",
    "    print(f\"Bilgisayarın Seçimi: {computer_choice}\\n\\nKazanan: {winner}\")\n",
    "    global oyuncu_puani, pc_puani\n",
    "    if winner == \"Bilgisayar\":\n",
    "        pc_puani += 100\n",
    "    else:\n",
    "        oyuncu_puani += 100\n",
    "\n",
    "print(\"Taş Kağıt Makas Oyununa Hoş Geldiniz!\\n\" + \"-\"*40)\n",
    "\n",
    "while True:\n",
    "    print(\"\\n1 - Taş\\n2 - Kağıt \\n3 - Makas\\nOyundan çıkmak isterseniz bu değerler dışında bir değer giriniz\")\n",
    "    player_choice = int(input(\"Seçiminizi yapınız\"))\n",
    "    computer_choice = random.choice([1, 2, 3])\n",
    "\n",
    "    if player_choice == computer_choice:\n",
    "        print(\"Beraber, yeniden oynayınız\")\n",
    "    elif player_choice == 1:\n",
    "        if computer_choice == 2:\n",
    "            print_result()\n",
    "        elif computer_choice == 3:\n",
    "            print_result(\"Kullanıcı\")\n",
    "    elif player_choice == 2:\n",
    "        if computer_choice == 1:\n",
    "            print_result(\"Kullanıcı\")\n",
    "        elif computer_choice == 3:\n",
    "            print_result()\n",
    "    elif player_choice == 3:\n",
    "        if computer_choice == 1:\n",
    "            print_result()\n",
    "        elif computer_choice == 2:\n",
    "            print_result(\"Kullanıcı\")     \n",
    "    else:\n",
    "        break\n",
    "\n",
    "print(f\"\\n\\nKullanıcı skoru {oyuncu_puani} - Bilgisayarın skoru {pc_puani}\")\n",
    "if oyuncu_puani > pc_puani: print(\"Kazanan: Kullanıcı\")\n",
    "elif oyuncu_puani < pc_puani: print(\"Kazanan: Bilgisayar\")\n",
    "else: print(\"Oyun Berabere\")"
   ]
  }
 ],
 "metadata": {
  "kernelspec": {
   "display_name": "Python 3.10.6 64-bit (system)",
   "language": "python",
   "name": "python3"
  },
  "language_info": {
   "codemirror_mode": {
    "name": "ipython",
    "version": 3
   },
   "file_extension": ".py",
   "mimetype": "text/x-python",
   "name": "python",
   "nbconvert_exporter": "python",
   "pygments_lexer": "ipython3",
   "version": "3.10.6"
  },
  "orig_nbformat": 4,
  "vscode": {
   "interpreter": {
    "hash": "9624578c985f44420bdf532c620c13a9f13c360a52c0692b61f3ec1fa411c6c5"
   }
  }
 },
 "nbformat": 4,
 "nbformat_minor": 2
}
