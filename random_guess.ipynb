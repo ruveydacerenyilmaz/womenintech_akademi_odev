{
 "cells": [
  {
   "cell_type": "code",
   "execution_count": 2,
   "metadata": {},
   "outputs": [
    {
     "name": "stdout",
     "output_type": "stream",
     "text": [
      "Lütfen daha büyük bir sayı tahmininde bulunun.\n",
      "Lütfen daha büyük bir sayı tahmininde bulunun.\n",
      "Lütfen daha büyük bir sayı tahmininde bulunun.\n",
      "Lütfen daha küçük bir sayı tahmininde bulunun.\n",
      "Lütfen daha büyük bir sayı tahmininde bulunun.\n",
      "Lütfen daha büyük bir sayı tahmininde bulunun.\n",
      "Lütfen daha büyük bir sayı tahmininde bulunun.\n",
      "Lütfen daha büyük bir sayı tahmininde bulunun.\n",
      "Lütfen daha küçük bir sayı tahmininde bulunun.\n",
      "Lütfen daha küçük bir sayı tahmininde bulunun.\n",
      "Lütfen daha küçük bir sayı tahmininde bulunun.\n",
      "Tebrikler, doğru tahminde bulundunuz! :)\n"
     ]
    }
   ],
   "source": [
    "from random import randint\n",
    "\n",
    "def guess(number):\n",
    "    user = int(input(\"Sayı tahmin oyunu için 1 ve 100 arasında bir sayı tahmininde bulunuz: \"))\n",
    "    while number != user:\n",
    "        if number < user:\n",
    "            print(\"Lütfen daha küçük bir sayı tahmininde bulunun.\")\n",
    "        else: \n",
    "            print(\"Lütfen daha büyük bir sayı tahmininde bulunun.\")\n",
    "\n",
    "        user  = int(input(\"Yeniden bir tahminde bulunmak için 1 ve 100 arasında bir sayı giriniz:\"))\n",
    "    else:\n",
    "        print(\"Tebrikler, doğru tahminde bulundunuz! :)\")\n",
    "\n",
    "guess(randint(1,100))"
   ]
  }
 ],
 "metadata": {
  "kernelspec": {
   "display_name": "Python 3.10.6 64-bit (system)",
   "language": "python",
   "name": "python3"
  },
  "language_info": {
   "codemirror_mode": {
    "name": "ipython",
    "version": 3
   },
   "file_extension": ".py",
   "mimetype": "text/x-python",
   "name": "python",
   "nbconvert_exporter": "python",
   "pygments_lexer": "ipython3",
   "version": "3.10.6"
  },
  "orig_nbformat": 4,
  "vscode": {
   "interpreter": {
    "hash": "9624578c985f44420bdf532c620c13a9f13c360a52c0692b61f3ec1fa411c6c5"
   }
  }
 },
 "nbformat": 4,
 "nbformat_minor": 2
}
