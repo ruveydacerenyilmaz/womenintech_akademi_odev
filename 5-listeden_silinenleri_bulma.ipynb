{
 "cells": [
  {
   "cell_type": "markdown",
   "metadata": {},
   "source": [
    "1-Soru: 0dan 100e kadar karışık sırada sayıları tutan bir listenizin olduğunu düşünün. Bu liste içerisinde n tane sayı eksik. n ve eksik sayıları bulunuz.\n",
    "\n",
    "Örnek: my_list = [0, 7, 5, 8, 2] -> 0-10 arasında\n",
    "\n",
    "6 adet sayı eksiktir. Eksik olan sayılar [1, 3, 4, 6, 9, 10]"
   ]
  },
  {
   "cell_type": "code",
   "execution_count": 5,
   "metadata": {},
   "outputs": [
    {
     "name": "stdout",
     "output_type": "stream",
     "text": [
      "Karışık listemizin eleman sayısı:  77\n",
      "23 tane sayı my_list'in içinde yok.\n",
      "Karışık Sayı Listemiz: \n",
      " [70, 9, 76, 25, 5, 86, 45, 50, 41, 15, 46, 79, 87, 30, 26, 95, 69, 24, 21, 61, 65, 6, 99, 37, 3, 60, 80, 20, 31, 18, 68, 66, 54, 22, 58, 23, 90, 78, 7, 10, 0, 51, 85, 12, 75, 52, 73, 42, 35, 100, 97, 11, 17, 93, 13, 92, 81]\n",
      "Karışık Listede Olmayan Eksik Sayılar: \n",
      " [{0, 1, 2, 4, 8, 14, 16, 19, 27, 28, 29, 32, 33, 34, 36, 38, 39, 40, 43, 44, 47, 48, 49, 53, 55, 56, 57, 59, 62, 63, 64, 67, 71, 72, 74, 77, 82, 83, 84, 88, 89, 91, 94, 96, 98}]\n"
     ]
    }
   ],
   "source": [
    "#Kod çalışıyor ama vsCode'da sorun olduğundan burada çalıştıramadım.\n",
    "#Python'ın kendi idesinde çalışıyor sorunsuzca\n",
    "\n",
    "import random\n",
    "a = random.randint(0,100)\n",
    "print(\"Karışık listemizin eleman sayısı: \", a)\n",
    "print((100 - a), \"tane sayı my_list'in içinde yok.\")\n",
    "\n",
    "liste = []#0'dan 100'e kadar hangi sayılar eksik kontrol etmek için liste oluşturduk\n",
    "my_list = [] #karışık sayıların bulunduğu liste\n",
    "listNone = [] #my_listte olmayan sayıları buraya ekliyoruz.\n",
    "\n",
    "for x in range(1,101):\n",
    "    liste.append(x)\n",
    "    \n",
    "for i in range(a): \n",
    "    my_list.append(random.randint(0,100))\n",
    "my_list = list(dict.fromkeys(my_list))\n",
    "random.shuffle(my_list)\n",
    "\n",
    "listNone.append(set(liste)^set(my_list)) #symmetric_difference uyguladık\n",
    "\n",
    "print(\"Karışık Sayı Listemiz: \\n\", my_list)\n",
    "print(\"Karışık Listede Olmayan Eksik Sayılar: \\n\", listNone)"
   ]
  },
  {
   "cell_type": "code",
   "execution_count": 8,
   "metadata": {},
   "outputs": [
    {
     "name": "stdout",
     "output_type": "stream",
     "text": [
      "[17, 20, 2, 19, 0, 11, 13, 4, 1, 3, 8, 7, 15, 6, 12, 10, 14, 9, 16, 5, 18]\n",
      "[20, 4, 16, 11, 3, 13]\n",
      "[17, 2, 19, 0, 1, 8, 7, 15, 6, 12, 10, 14, 9, 5, 18]\n"
     ]
    }
   ],
   "source": [
    "#Derste çözülen yöntem\n",
    "#Listeyi hazırlama\n",
    "import random \n",
    "my_list = [i for i in range(0,21)] #100 çok uzun olduğu için küçük bir sayı girdik.\n",
    "\n",
    "#1.yol\n",
    "\n",
    "remove_list = random.sample(my_list,6)\n",
    "random.shuffle(my_list)\n",
    "\n",
    "print(my_list)\n",
    "print(remove_list)\n",
    "\n",
    "for i in remove_list:\n",
    "    my_list.remove(i)\n",
    "\n",
    "#2.yol\n",
    "#del my_list[0:16]\n",
    "print(my_list)"
   ]
  },
  {
   "cell_type": "code",
   "execution_count": 9,
   "metadata": {},
   "outputs": [
    {
     "name": "stdout",
     "output_type": "stream",
     "text": [
      "Listemiz içerisinde 6 tane sayı eksiktir. Eksik olan sayılar [3, 4, 11, 13, 16, 20]\n"
     ]
    }
   ],
   "source": [
    "#Derste çözülen yöntemin devamı\n",
    "my_list =[17, 2, 19, 0, 1, 8, 7, 15, 6, 12, 10, 14, 9, 5, 18] \n",
    "missing_list = []\n",
    "for i in range(0,21):\n",
    "    if i not in my_list:\n",
    "        missing_list.append(i)\n",
    "\n",
    "print(f\"Listemiz içerisinde {len(missing_list)} tane sayı eksiktir. Eksik olan sayılar {missing_list}\")\n"
   ]
  },
  {
   "cell_type": "code",
   "execution_count": 11,
   "metadata": {},
   "outputs": [
    {
     "name": "stdout",
     "output_type": "stream",
     "text": [
      "Listemiz içerisinde 6 tane sayı eksiktir. Eksik olan sayılar {3, 4, 11, 13, 16, 20}\n"
     ]
    }
   ],
   "source": [
    "#Derste çözülen 2.yöntem\n",
    "my_list =[17, 2, 19, 0, 1, 8, 7, 15, 6, 12, 10, 14, 9, 5, 18] \n",
    "\n",
    "my_set = {i for i in range(0,21)}\n",
    "difference_Set = my_set - set(my_list)\n",
    "\n",
    "print(f\"Listemiz içerisinde {len(difference_Set)} tane sayı eksiktir. Eksik olan sayılar {difference_Set}\")\n"
   ]
  }
 ],
 "metadata": {
  "kernelspec": {
   "display_name": "Python 3.10.6 64-bit",
   "language": "python",
   "name": "python3"
  },
  "language_info": {
   "codemirror_mode": {
    "name": "ipython",
    "version": 3
   },
   "file_extension": ".py",
   "mimetype": "text/x-python",
   "name": "python",
   "nbconvert_exporter": "python",
   "pygments_lexer": "ipython3",
   "version": "3.10.6"
  },
  "orig_nbformat": 4,
  "vscode": {
   "interpreter": {
    "hash": "9624578c985f44420bdf532c620c13a9f13c360a52c0692b61f3ec1fa411c6c5"
   }
  }
 },
 "nbformat": 4,
 "nbformat_minor": 2
}
