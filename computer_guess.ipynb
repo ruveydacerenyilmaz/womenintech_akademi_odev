{
 "cells": [
  {
   "cell_type": "code",
   "execution_count": 1,
   "metadata": {},
   "outputs": [
    {
     "name": "stdout",
     "output_type": "stream",
     "text": [
      "Tebrikler, doğru tahmin ettiniz! :)\n"
     ]
    }
   ],
   "source": [
    "from random import randint\n",
    "\n",
    "sayi = int(input(\"Aklınızdan tuttuğunuz sayıyı giriniz: \"))\n",
    "def computerGuess(sayi):\n",
    "    start = 1\n",
    "    end = 100\n",
    "    result = \"\"\n",
    "    while result !=\"d\":\n",
    "        guess=randint(start, end)\n",
    "\n",
    "        result = input(\"{} değeri aklından tuttuğun değerden büyükse (b), küçükse (k), doğruyse (d) giriniz.\".format(guess)).lower()\n",
    "        if result == \"b\":\n",
    "            end= guess-1\n",
    "        elif result == \"k\":\n",
    "            start = guess+1\n",
    "    \n",
    "    print(\"Tebrikler, doğru tahmin ettiniz! :)\")\n",
    "\n",
    "computerGuess(22)\n"
   ]
  }
 ],
 "metadata": {
  "kernelspec": {
   "display_name": "Python 3.10.6 64-bit (system)",
   "language": "python",
   "name": "python3"
  },
  "language_info": {
   "codemirror_mode": {
    "name": "ipython",
    "version": 3
   },
   "file_extension": ".py",
   "mimetype": "text/x-python",
   "name": "python",
   "nbconvert_exporter": "python",
   "pygments_lexer": "ipython3",
   "version": "3.10.6"
  },
  "orig_nbformat": 4,
  "vscode": {
   "interpreter": {
    "hash": "9624578c985f44420bdf532c620c13a9f13c360a52c0692b61f3ec1fa411c6c5"
   }
  }
 },
 "nbformat": 4,
 "nbformat_minor": 2
}
