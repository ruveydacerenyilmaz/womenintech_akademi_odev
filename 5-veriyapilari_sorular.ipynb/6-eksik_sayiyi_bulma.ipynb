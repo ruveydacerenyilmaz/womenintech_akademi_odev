{
 "cells": [
  {
   "cell_type": "markdown",
   "metadata": {},
   "source": [
    "**2-Soru: 0'dan 100'e kadar karışık sırada sayıları tutan bir listenizin olduğunu düşünün. Bu liste içerisinde 1 adet sayı eksik. Eksik olan sayıyı bulunuz.**"
   ]
  },
  {
   "cell_type": "code",
   "execution_count": 17,
   "metadata": {},
   "outputs": [
    {
     "name": "stdout",
     "output_type": "stream",
     "text": [
      "Sayı Listesi:  [45, 40, 35, 19, 65, 84, 70, 77, 39, 26, 54, 75, 60, 31, 81, 98, 82, 14, 36, 22, 52, 10, 99, 1, 37, 95, 4, 66, 78, 55, 16, 25, 32, 53, 18, 34, 97, 83, 17, 9, 0, 69, 13, 12, 56, 3, 85, 88, 50, 71, 21, 33, 24, 72, 94, 28, 48, 63, 57, 5, 87, 30, 96, 49, 47, 76, 62, 58, 41, 51, 29, 46, 38, 100, 44, 80, 43, 68, 59, 8, 74, 73, 20, 6, 86, 93, 61, 15, 27, 7, 23, 89, 42, 92, 64, 90, 2, 91, 79, 11, 67]\n",
      "Liste içerisinde eksik bir sayı bulunmaktadır. Eksik olan sayı: [87].\n"
     ]
    }
   ],
   "source": [
    "import random \n",
    "#random kütüphanesini çağırdık.\n",
    "\n",
    "my_list = [i for i in range(0,101)] \n",
    "#0'dan 100'e kadar sayıları my_list'in içine attık.\n",
    "#Uzun bir for döngüsü yazmak yerine list comprehension ile tek satırda for döngüsünü halletik.\n",
    "\n",
    "silinen_sayi = random.sample(my_list,1) \n",
    "# 1 sayı eksik olması için rastgele bir sayıyı seçtik, silinen_sayi değişkenine bu sayıyı atadık.\n",
    "\n",
    "random.shuffle(my_list)\n",
    "# .shuffle ile listeyi rastgele karıştırdık. \n",
    "\n",
    "print(\"Sayı Listesi: \", my_list) #Son haldeki listeyi yazdırdık.\n",
    "\n",
    "for i in silinen_sayi:\n",
    "    my_list.remove(i)\n",
    "#  for döngüsünde my_list'in içinde gezindi ve silinen_sayi'daki sayıya gelince o sayıyı my_list içinden sildik.\n",
    "\n",
    "print(f\"Liste içerisinde eksik bir sayı bulunmaktadır. Eksik olan sayı: {silinen_sayi}.\")"
   ]
  },
  {
   "cell_type": "code",
   "execution_count": 23,
   "metadata": {},
   "outputs": [
    {
     "name": "stdout",
     "output_type": "stream",
     "text": [
      "[0, 1, 2, 3, 4, 5, 6, 7, 8, 9, 10]\n",
      "[0, 1, 2, 4, 5, 6, 7, 8, 9, 10]\n",
      "[3]\n"
     ]
    }
   ],
   "source": [
    "'''\n",
    "for i in silinen_sayi:\n",
    "    my_list.remove(i)\n",
    "'''\n",
    "#Yukarıdaki for döngüsünün kısa örnekle açıklanması\n",
    "liste = [i for i in range(0,11)]\n",
    "print(liste)\n",
    "\n",
    "silinecekSayi = random.sample(liste,1) \n",
    "# liste içinden bir sayı seçti\n",
    "\n",
    "for i in silinecekSayi: #seçtiğimiz sayıya liste içinde denk gelince, o sayıyı listeden sildi.\n",
    "    liste.remove(i)\n",
    "\n",
    "print(liste)\n",
    "print(silinecekSayi)\n"
   ]
  }
 ],
 "metadata": {
  "kernelspec": {
   "display_name": "Python 3.10.6 64-bit",
   "language": "python",
   "name": "python3"
  },
  "language_info": {
   "codemirror_mode": {
    "name": "ipython",
    "version": 3
   },
   "file_extension": ".py",
   "mimetype": "text/x-python",
   "name": "python",
   "nbconvert_exporter": "python",
   "pygments_lexer": "ipython3",
   "version": "3.10.6"
  },
  "orig_nbformat": 4,
  "vscode": {
   "interpreter": {
    "hash": "9624578c985f44420bdf532c620c13a9f13c360a52c0692b61f3ec1fa411c6c5"
   }
  }
 },
 "nbformat": 4,
 "nbformat_minor": 2
}
