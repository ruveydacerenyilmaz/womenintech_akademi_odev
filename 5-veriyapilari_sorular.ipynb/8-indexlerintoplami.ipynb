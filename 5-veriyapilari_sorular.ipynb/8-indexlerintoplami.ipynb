{
 "cells": [
  {
   "cell_type": "markdown",
   "metadata": {},
   "source": [
    "**4-Soru: Fonksiyon bir integer array nums ve bir hedef target değişkeni almalı ve bizlere toplamı target olan indexleri dönmeli.**\n",
    "* Kurallar: Aynı index’teki değeri iki defa kullanamayız.\n",
    "\n",
    "Örnek:\n",
    "\n",
    "* Parametreler: nums = [2,7,11,15], target = 9\n",
    "* Dönen Değer: [0,1]\n",
    "* Açıklama: nums[0] ve nums[1]'deki değerlerin toplamı 9 yaptığı için çıktımız [0, 1] oldu.\n",
    "\n",
    "Örnek:\n",
    "\n",
    "* Parametreler: nums = [3,2,4], target = 6\n",
    "* Dönen Değer: [1,2]\n",
    "* Açıklama: nums[1] ve nums[2]'deki değerlerin toplamı 6 yaptığı için çıktımız [1, 2] oldu.\n",
    "* Not: Burada [0,0] çıktı olarak kabul edilemez. Çünkü aynı index'i kullanamayacağımız söylenmişti.\n",
    "\n",
    "Örnek\n",
    "\n",
    "* Parametreler: nums = [3,2,4,1,3], target = 7\n",
    "* Dönen Değer: [2,4]\n",
    "* Açıklama: nums[2] ve nums[4]'deki değerlerin toplamı 7 yaptığı için çıktımız [2, 4] oldu."
   ]
  },
  {
   "cell_type": "code",
   "execution_count": 10,
   "metadata": {},
   "outputs": [
    {
     "data": {
      "text/plain": [
       "[10, 11]"
      ]
     },
     "execution_count": 10,
     "metadata": {},
     "output_type": "execute_result"
    }
   ],
   "source": [
    "def toplamhedefindex(sayi, hedefSayi):\n",
    "    for i in range(len(sayi)): #Listedeki her bir sayı için tekrar liste içinde gezilir.\n",
    "        for j in range(len(sayi)):\n",
    "            if i == j: \n",
    "                continue\n",
    "            if sayi[i] + sayi[j] == hedefSayi: \n",
    "                return [i, j]\n",
    "toplamhedefindex(nums = [0, 1, 2, 3, 4, 5, 6, 7, 8, 9, 10, 10], hedefSayi = 20)\n"
   ]
  }
 ],
 "metadata": {
  "kernelspec": {
   "display_name": "Python 3.10.6 64-bit",
   "language": "python",
   "name": "python3"
  },
  "language_info": {
   "codemirror_mode": {
    "name": "ipython",
    "version": 3
   },
   "file_extension": ".py",
   "mimetype": "text/x-python",
   "name": "python",
   "nbconvert_exporter": "python",
   "pygments_lexer": "ipython3",
   "version": "3.10.6"
  },
  "orig_nbformat": 4,
  "vscode": {
   "interpreter": {
    "hash": "9624578c985f44420bdf532c620c13a9f13c360a52c0692b61f3ec1fa411c6c5"
   }
  }
 },
 "nbformat": 4,
 "nbformat_minor": 2
}
