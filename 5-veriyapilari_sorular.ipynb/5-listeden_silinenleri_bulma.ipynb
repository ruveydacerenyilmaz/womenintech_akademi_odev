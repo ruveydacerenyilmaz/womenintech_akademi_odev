{
 "cells": [
  {
   "cell_type": "markdown",
   "metadata": {},
   "source": [
    "**1-Soru: 0'dan 100'e kadar karışık sırada sayıları tutan bir listenizin olduğunu düşünün. Bu liste içerisinde n tane sayı eksik. n ve eksik sayıları bulunuz.**\n",
    "\n",
    "Örnek: my_list = [0, 7, 5, 8, 2] -> 0-10 arasında\n",
    "\n",
    "6 adet sayı eksiktir. Eksik olan sayılar [1, 3, 4, 6, 9, 10]"
   ]
  },
  {
   "cell_type": "code",
   "execution_count": 4,
   "metadata": {},
   "outputs": [
    {
     "name": "stdout",
     "output_type": "stream",
     "text": [
      "Karışık listemizin eleman sayısı:  47\n",
      "53 tane sayı my_list'in içinde yok.\n",
      "Karışık Sayı Listemiz: \n",
      " [58, 90, 12, 77, 24, 87, 22, 19, 99, 71, 100, 82, 29, 4, 25, 18, 76, 69, 94, 60, 95, 17, 48, 35, 49, 38, 50, 98, 30, 75, 97, 13, 93, 9, 56, 16, 46, 23, 80]\n",
      "Karışık Listede Olmayan Eksik Sayılar: \n",
      " [{0, 1, 2, 3, 5, 6, 7, 8, 10, 11, 14, 15, 20, 21, 26, 27, 28, 31, 32, 33, 34, 36, 37, 39, 40, 41, 42, 43, 44, 45, 47, 51, 52, 53, 54, 55, 57, 59, 61, 62, 63, 64, 65, 66, 67, 68, 70, 72, 73, 74, 78, 79, 81, 83, 84, 85, 86, 88, 89, 91, 92, 96}]\n"
     ]
    }
   ],
   "source": [
    "import random\n",
    "a = random.randint(0,100)\n",
    "print(\"Karışık listemizin eleman sayısı: \", a)\n",
    "print((100 - a), \"tane sayı my_list'in içinde yok.\")\n",
    "\n",
    "liste = [i for i in range(0,101)]#0'dan 100'e kadar hangi sayılar eksik kontrol etmek için liste oluşturduk\n",
    "my_list = [] #karışık sayıların bulunduğu liste\n",
    "listNone = [] #my_listte olmayan sayıları buraya ekliyoruz.\n",
    "    \n",
    "for i in range(a): \n",
    "    my_list.append(random.randint(0,100))\n",
    "my_list = list(dict.fromkeys(my_list)) #sayilarin duplicate olmasını engelliyor.\n",
    "random.shuffle(my_list)\n",
    "\n",
    "listNone.append(set(liste)^set(my_list)) #symmetric_difference uyguladık\n",
    "\n",
    "print(\"Karışık Sayı Listemiz: \\n\", my_list)\n",
    "print(\"Karışık Listede Olmayan Eksik Sayılar: \\n\", listNone)"
   ]
  },
  {
   "cell_type": "code",
   "execution_count": 2,
   "metadata": {},
   "outputs": [
    {
     "name": "stdout",
     "output_type": "stream",
     "text": [
      "Karışık sayı listesi:  [1, 31, 47, 49, 60, 93, 43, 25, 14, 63, 75, 96, 10, 72, 65, 80, 70, 41, 99, 56, 9, 83, 34, 51, 5, 38, 90, 91, 28, 46, 59, 69, 89, 19, 21, 20, 86, 77, 97, 33, 16, 44, 35, 36, 11, 32, 39, 40, 71, 53, 92, 26, 8, 57, 95, 98, 45, 6, 100, 29, 61, 4, 17, 18, 74, 52, 55, 58, 84, 15, 7, 30, 23, 24, 54, 66, 87, 2, 68, 50, 94, 64, 13, 78, 85, 12, 73, 3, 42, 22, 76, 0, 62, 81, 88, 82, 67, 48, 27, 37, 79]\n",
      "Silinen sayıların listesi:  [65, 79, 88, 49, 24, 17, 62, 100, 18, 30, 48, 52, 31, 41, 96, 57, 45, 51, 16, 14]\n",
      "Listemiz içerisinde 20 tane sayı eksiktir. Eksik olan sayılar [14, 16, 17, 18, 24, 30, 31, 41, 45, 48, 49, 51, 52, 57, 62, 65, 79, 88, 96, 100]\n"
     ]
    }
   ],
   "source": [
    "#Derste çözülen yöntem \n",
    "#Listeyi hazırlama\n",
    "import random \n",
    "\n",
    "my_list = [i for i in range(0,101)] #100 çok uzun olduğu için küçük bir sayı girdik.\n",
    "\n",
    "remove_list = random.sample(my_list,20) #Karışık 20 tane sayı silindi.\n",
    "random.shuffle(my_list)\n",
    "\n",
    "print(\"Karışık sayı listesi: \", my_list)\n",
    "print(\"Silinen sayıların listesi: \", remove_list)\n",
    "\n",
    "for i in remove_list:\n",
    "    my_list.remove(i)\n",
    "\n",
    "missing_list = []\n",
    "for i in range(0,101):\n",
    "    if i not in my_list:\n",
    "        missing_list.append(i)\n",
    "\n",
    "print(f\"Listemiz içerisinde {len(missing_list)} tane sayı eksiktir. Eksik olan sayılar {missing_list}\")\n"
   ]
  },
  {
   "cell_type": "code",
   "execution_count": 3,
   "metadata": {},
   "outputs": [
    {
     "name": "stdout",
     "output_type": "stream",
     "text": [
      "Karışık sayı listesi:  [1, 47, 60, 93, 43, 25, 63, 75, 10, 72, 80, 70, 99, 56, 9, 83, 34, 5, 38, 90, 91, 28, 46, 59, 69, 89, 19, 21, 20, 86, 77, 97, 33, 44, 35, 36, 11, 32, 39, 40, 71, 53, 92, 26, 8, 95, 98, 6, 29, 61, 4, 74, 55, 58, 84, 15, 7, 23, 54, 66, 87, 2, 68, 50, 94, 64, 13, 78, 85, 12, 73, 3, 42, 22, 76, 0, 81, 82, 67, 27, 37]\n",
      "Listemiz içerisinde 20 tane sayı eksiktir. Eksik olan sayılar {14, 16, 17, 18, 24, 30, 31, 41, 45, 48, 49, 51, 52, 57, 62, 65, 79, 88, 96, 100}\n"
     ]
    }
   ],
   "source": [
    "#Derste çözülen 2.yöntem\n",
    "my_set = {i for i in range(0,101)}\n",
    "difference_Set = my_set - set(my_list)\n",
    "print(\"Karışık sayı listesi: \", my_list)\n",
    "print(f\"Listemiz içerisinde {len(difference_Set)} tane sayı eksiktir. Eksik olan sayılar {difference_Set}\")\n"
   ]
  }
 ],
 "metadata": {
  "kernelspec": {
   "display_name": "Python 3.10.6 64-bit",
   "language": "python",
   "name": "python3"
  },
  "language_info": {
   "codemirror_mode": {
    "name": "ipython",
    "version": 3
   },
   "file_extension": ".py",
   "mimetype": "text/x-python",
   "name": "python",
   "nbconvert_exporter": "python",
   "pygments_lexer": "ipython3",
   "version": "3.10.6"
  },
  "orig_nbformat": 4,
  "vscode": {
   "interpreter": {
    "hash": "9624578c985f44420bdf532c620c13a9f13c360a52c0692b61f3ec1fa411c6c5"
   }
  }
 },
 "nbformat": 4,
 "nbformat_minor": 2
}
