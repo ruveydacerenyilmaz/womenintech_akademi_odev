{
 "cells": [
  {
   "cell_type": "markdown",
   "metadata": {},
   "source": [
    "**3-Soru: Bir liste üzerinde sıralama algoritmasını kullanarak listeyi sıralayınız.**"
   ]
  },
  {
   "cell_type": "markdown",
   "metadata": {},
   "source": [
    "* Girdiğimiz sayı aralığında karışık sayılardan oluşan bir liste oluşturuldu."
   ]
  },
  {
   "cell_type": "code",
   "execution_count": 16,
   "metadata": {},
   "outputs": [
    {
     "name": "stdout",
     "output_type": "stream",
     "text": [
      "Sayı listesi:  [1, -1, 3, -4, 2, 4, -5, -3, 5, -2, 0]\n"
     ]
    }
   ],
   "source": [
    "import random\n",
    "\n",
    "sayi1, sayi2 = int(input(\"Küçük bir sayı giriniz\")) , int(input(\"İlk girdiğiniz sayıdan büyük bir sayı giriniz\"))\n",
    "#İlk girdiğimiz sayıyı küçük, diğer girilen sayıyı ilk girilenden büyük girmeliyiz yoksa my_list boş liste oluyor.\n",
    "\n",
    "my_list = [i for i in range(sayi1,sayi2+1)] # my_list'in içine girdiğimiz iki sayının aralığını giriyoruz\n",
    "random.shuffle(my_list)\n",
    "#listeyi karıştırıyoruz\n",
    "\n",
    "print(\"Sayı listesi: \", my_list)\n"
   ]
  },
  {
   "cell_type": "markdown",
   "metadata": {},
   "source": [
    "* Oluşturulmuş karışık sayı listesi içinde; \n",
    "    - Oluşturduğumuz listenin içerisinden minimum değeri bulacak,\n",
    "    - Onu ilk sıraya gönderip ilk sıradaki değeri onunla yer değiştireceğiz."
   ]
  },
  {
   "cell_type": "code",
   "execution_count": 18,
   "metadata": {},
   "outputs": [
    {
     "name": "stdout",
     "output_type": "stream",
     "text": [
      "Sayı listesi:  [1, -1, 3, -4, 2, 4, -5, -3, 5, -2, 0]\n",
      "[-5, -1, 3, -4, 2, 4, 1, -3, 5, -2, 0]\n",
      "[-5, -4, 3, -1, 2, 4, 1, -3, 5, -2, 0]\n",
      "[-5, -4, -3, -1, 2, 4, 1, 3, 5, -2, 0]\n",
      "[-5, -4, -3, -2, 2, 4, 1, 3, 5, -1, 0]\n",
      "[-5, -4, -3, -2, -1, 4, 1, 3, 5, 2, 0]\n",
      "[-5, -4, -3, -2, -1, 0, 1, 3, 5, 2, 4]\n",
      "[-5, -4, -3, -2, -1, 0, 1, 3, 5, 2, 4]\n",
      "[-5, -4, -3, -2, -1, 0, 1, 2, 5, 3, 4]\n",
      "[-5, -4, -3, -2, -1, 0, 1, 2, 3, 5, 4]\n",
      "[-5, -4, -3, -2, -1, 0, 1, 2, 3, 4, 5]\n",
      "[-5, -4, -3, -2, -1, 0, 1, 2, 3, 4, 5]\n",
      "Yeniden Sıralanan Liste [-5, -4, -3, -2, -1, 0, 1, 2, 3, 4, 5]\n"
     ]
    }
   ],
   "source": [
    "print(\"Sayı listesi: \", my_list) \n",
    "\n",
    "for i in range(len(my_list)):\n",
    "    minimumSayi , minIndex = my_list[i] , i \n",
    "# DÖngüdeki ilk i değerini hem mininumum index olarak hemde minimum sayı varsaydık \n",
    "\n",
    "    for j in range(i, len(my_list)): \n",
    "#ilk aldığımız sayıyı döngü aralığı olarak belirttik\n",
    "        if my_list[j] < minimumSayi:\n",
    "#yeni döngüdeki sayı minimum sayıdan küçükse minimum sayı olarak ve minIndex de güncellenmiş oldu.            \n",
    "\n",
    "#döngüdeki j sayısı minimumSayi'dan küçükse j sayısı minimumSayi ve minIndex yerine geçer\n",
    "            minimumSayi = my_list[j]\n",
    "            minIndex = j \n",
    "\n",
    "#ilk aldığımız sayıyla yer değiştirecek olan sayıyı birbirine eşitliyor, minIndex sayısına da küçük olarak aldığımız sayıyı koyuyoruz.   \n",
    "    yerDegistirecekSayi = my_list[i] \n",
    "    my_list[i] = my_list[minIndex]\n",
    "    my_list[minIndex] = yerDegistirecekSayi\n",
    "\n",
    "#listenin uzunluğu kadar yer değişimi yaptırdığımız için liste doğru sıralanmış şekilde ulaşsa bile, liste uzunluğu kadar dönmeye devam eder.    \n",
    "    print(my_list) \n",
    "print(\"Yeniden Sıralanan Liste\", my_list)\n"
   ]
  }
 ],
 "metadata": {
  "kernelspec": {
   "display_name": "Python 3.10.6 64-bit",
   "language": "python",
   "name": "python3"
  },
  "language_info": {
   "codemirror_mode": {
    "name": "ipython",
    "version": 3
   },
   "file_extension": ".py",
   "mimetype": "text/x-python",
   "name": "python",
   "nbconvert_exporter": "python",
   "pygments_lexer": "ipython3",
   "version": "3.10.6"
  },
  "orig_nbformat": 4,
  "vscode": {
   "interpreter": {
    "hash": "9624578c985f44420bdf532c620c13a9f13c360a52c0692b61f3ec1fa411c6c5"
   }
  }
 },
 "nbformat": 4,
 "nbformat_minor": 2
}
