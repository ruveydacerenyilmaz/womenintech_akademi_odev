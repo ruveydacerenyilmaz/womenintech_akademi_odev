{
 "cells": [
  {
   "cell_type": "markdown",
   "metadata": {},
   "source": [
    "Düzensiz ve duplicate veriden oluşan \"all_data.txt\" dosyası üzerinde yapılacak olan işlemler;\n",
    "\n",
    "1. Bütün text küçük harfe çevrilecek + \n",
    "2. Türkçe karakterler replace edilecek (ş -> s, ı -> i, ö -> o, ğ -> g, ç -> c, ü -> u)+\n",
    "3. Noktalama işaretleri kaldırılacak +\n",
    "4. Bir satır tamamen sayılardan oluşuyorsa satırı yeni dosyaya ekleme +\n",
    "5. Her satırda bir cümle olacak şekilde satırları düzenleyin + \n",
    "6. duplicate veri barındırmayacak +"
   ]
  },
  {
   "cell_type": "code",
   "execution_count": 1,
   "metadata": {},
   "outputs": [],
   "source": [
    "#all_data dosyası okundu.\n",
    "files = open(\"all_data.txt\", \"r\", encoding=\"utf-8\")\n",
    "lines = files.readlines()"
   ]
  },
  {
   "cell_type": "markdown",
   "metadata": {},
   "source": [
    "- Regex kütüphanesi çağırıldı.\n",
    "- Yeni bir .txt dosyasına all_data dosyasında;\n",
    "    - Eğer satır içerisinde '. ' denk gelirse bunu '\\n' yapıyor, aynı satırdaki cümleleri alt satıra aktarmış oluyor,\n",
    "    - Noktalama işaretlerini çağırdığımız regex kütüphanesindeki metotlarla siliyoruz,\n",
    "    - Tüm dosya küçük harfe çevriliyor,\n",
    "    - Türkçe karakterler, ingilizce karakterler ile replace ediliyor, \n",
    "    - 'unduplicated' diye bir boş set değişkeni tanımlıyoruz. Tanımladığımız set'in içine işlenen satırlar ekleniyor ve 'set' yapısı duplicate veri barındırmadığı için dosyaya yazdırdığımız her satır unique olacaktır. \n"
   ]
  },
  {
   "cell_type": "code",
   "execution_count": 2,
   "metadata": {},
   "outputs": [],
   "source": [
    "import regex\n",
    "unduplicated = set()\n",
    "with open(\"new_all_data.txt\", \"w\", encoding=\"utf-8\") as f:\n",
    "    for line in lines:\n",
    "        for i in line.split(\". \"):\n",
    "            remove =regex.compile(r'[\\p{C}|\\p{M}|\\p{P}|\\p{S}|\\p{Z}]+', regex.UNICODE)\n",
    "            i = remove.sub(u\" \", i).strip()\n",
    "            i = i.lower().replace(\"ş\",\"s\").replace(\"ı\",\"i\").replace(\"ö\",\"o\").replace(\"ğ\",\"g\").replace(\"ç\",\"c\").replace(\"ü\",\"u\") + \"\\n\"\n",
    "            if(i not in unduplicated and i != \"\\n\"):\n",
    "                f.write(i)\n",
    "                unduplicated.add(i)"
   ]
  },
  {
   "cell_type": "markdown",
   "metadata": {},
   "source": [
    "* new_all_data dosyasındaki düzenlenen satırlar içinde sadece sayılardan oluşan satırları bulmak için; \n",
    "    - 'sayi' diye bir sayaç koyuyoruz,\n",
    "    - Eğer sayı karakterine ve boşluklara denk gelirse sayi değeri +1 oluyor True değer dönüyor,\n",
    "    - Bu sayi değeri satırın uzunluğu ile aynıysa yani tamamiyle sayılardan oluşan bir satırsa bu satırı 'sayilarin_dosyasi.txt' ismindeki dosyaya yazdırıyor.."
   ]
  },
  {
   "cell_type": "code",
   "execution_count": null,
   "metadata": {},
   "outputs": [],
   "source": [
    "with open(\"sayilarin_dosyasi.txt\", \"w+\", encoding=\"utf-8\") as f:\n",
    "    for line in unduplicated:\n",
    "        sayi=1\n",
    "        for i in line:\n",
    "            if i.isnumeric() or i==\" \":\n",
    "                sayi+=1\n",
    "        if sayi==len(line)and sayi>1:\n",
    "            f.write(line)"
   ]
  }
 ],
 "metadata": {
  "kernelspec": {
   "display_name": "Python 3.10.6 64-bit",
   "language": "python",
   "name": "python3"
  },
  "language_info": {
   "codemirror_mode": {
    "name": "ipython",
    "version": 3
   },
   "file_extension": ".py",
   "mimetype": "text/x-python",
   "name": "python",
   "nbconvert_exporter": "python",
   "pygments_lexer": "ipython3",
   "version": "3.10.6"
  },
  "orig_nbformat": 4,
  "vscode": {
   "interpreter": {
    "hash": "9624578c985f44420bdf532c620c13a9f13c360a52c0692b61f3ec1fa411c6c5"
   }
  }
 },
 "nbformat": 4,
 "nbformat_minor": 2
}
